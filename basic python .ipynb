{
 "cells": [
  {
   "cell_type": "code",
   "execution_count": 1,
   "id": "79af9c0b-e78d-4059-937d-2a352894422a",
   "metadata": {},
   "outputs": [],
   "source": [
    "a = 7\n",
    "b = 3"
   ]
  },
  {
   "cell_type": "code",
   "execution_count": 2,
   "id": "e6258807-5149-4cc2-9ed1-dfe318e96e93",
   "metadata": {},
   "outputs": [],
   "source": [
    "def swap_variables(a,b):\n",
    "    print(f\"Before swap a: {a} and b: {b}\")\n",
    "    a,b = b,a\n",
    "    print(f\"After swap a: {a} and b: {b}\")"
   ]
  },
  {
   "cell_type": "code",
   "execution_count": 3,
   "id": "ba3e8328-f042-4912-81c7-ccce09550f71",
   "metadata": {},
   "outputs": [
    {
     "name": "stdout",
     "output_type": "stream",
     "text": [
      "Before swap a: 7 and b: 3\n",
      "After swap a: 3 and b: 7\n"
     ]
    }
   ],
   "source": [
    "swap_variables(a,b)"
   ]
  },
  {
   "cell_type": "markdown",
   "id": "2e8e520f-57b2-4e58-82d8-3fc439d69427",
   "metadata": {},
   "source": [
    "WHAT DEF DEFINES HERE ???"
   ]
  },
  {
   "cell_type": "markdown",
   "id": "46998d1a-aa72-40c3-8f9e-6d547e8386b1",
   "metadata": {},
   "source": [
    "2 PROGRAM"
   ]
  },
  {
   "cell_type": "code",
   "execution_count": 4,
   "id": "bf586406-0edb-4913-9936-ae021ce22bce",
   "metadata": {},
   "outputs": [
    {
     "name": "stdin",
     "output_type": "stream",
     "text": [
      "ENTER THE LENGTH OF THE RECTANGLE: 7\n",
      "ENTER THE BREADTH OF RECTANGLE: 3\n"
     ]
    },
    {
     "name": "stdout",
     "output_type": "stream",
     "text": [
      "THE AREA OF RECTANGLE IS : 21.0\n"
     ]
    }
   ],
   "source": [
    "Length = float(input(\"ENTER THE LENGTH OF THE RECTANGLE:\"))\n",
    "Breadth = float(input(\"ENTER THE BREADTH OF RECTANGLE:\"))\n",
    "AREA = Length*Breadth\n",
    "print(\"THE AREA OF RECTANGLE IS :\", AREA)"
   ]
  },
  {
   "cell_type": "markdown",
   "id": "722b1e93-cdd2-494a-9db3-ace07ea12c1b",
   "metadata": {},
   "source": [
    "WE USED F W8 PRINT COMMAND IN 1 PROGRAM WHY NOT IN SECOND PROGRAM"
   ]
  },
  {
   "cell_type": "markdown",
   "id": "8af35696-e990-4790-83c0-9e9bb21bacf7",
   "metadata": {},
   "source": [
    "3 PROGRAM"
   ]
  },
  {
   "cell_type": "code",
   "execution_count": 6,
   "id": "d2bbf7f1-9359-4ee8-8040-d5bd7cffc0f3",
   "metadata": {},
   "outputs": [
    {
     "name": "stdin",
     "output_type": "stream",
     "text": [
      "ENTER TEMPRATURE IN CELSISUS: 63\n"
     ]
    },
    {
     "name": "stdout",
     "output_type": "stream",
     "text": [
      "63.0 CELSIUS IS EQUAL TO 145.40 FAHRENHEIT\n"
     ]
    }
   ],
   "source": [
    "CELSIUS_TEMP = float(input(\"ENTER TEMPRATURE IN CELSISUS:\"))\n",
    "FAHRENHEIT_TEMP = (CELSIUS_TEMP * 9/5) + 32\n",
    "print(f\"{CELSIUS_TEMP} CELSIUS IS EQUAL TO {FAHRENHEIT_TEMP:.2f} FAHRENHEIT\")"
   ]
  },
  {
   "cell_type": "markdown",
   "id": "8027bd8f-d370-457f-9963-899add167600",
   "metadata": {},
   "source": [
    "4 PROGRAM"
   ]
  },
  {
   "cell_type": "code",
   "execution_count": 2,
   "id": "84dbe122-6758-4ee2-90ef-ac16fca8bfc4",
   "metadata": {},
   "outputs": [
    {
     "name": "stdin",
     "output_type": "stream",
     "text": [
      " ENTER A STRING DEEPENDER SINGH RAGHAV\n"
     ]
    },
    {
     "name": "stdout",
     "output_type": "stream",
     "text": [
      "length of string is:  22\n"
     ]
    }
   ],
   "source": [
    "input_string = input(\" ENTER A STRING\")\n",
    "string_length = len(input_string)\n",
    "print(\"length of string is: \", string_length)"
   ]
  },
  {
   "cell_type": "markdown",
   "id": "be4d512b-b8f9-4364-8f9d-8f87acb9c894",
   "metadata": {},
   "source": [
    "5 PROGRAM"
   ]
  },
  {
   "cell_type": "code",
   "execution_count": 6,
   "id": "59b7fffc-d1d3-4e62-ad99-0938f57ba4e2",
   "metadata": {},
   "outputs": [
    {
     "name": "stdin",
     "output_type": "stream",
     "text": [
      "ENTER A SENTENCE : aeiou\n"
     ]
    },
    {
     "name": "stdout",
     "output_type": "stream",
     "text": [
      " NUMBER OF VOWELS: 5\n"
     ]
    }
   ],
   "source": [
    "sentence = input(\"ENTER A SENTENCE :\")\n",
    "vowel_count = 0\n",
    "for char in sentence:\n",
    "    char_lower = char.lower()\n",
    "    if char_lower in \"aeiou\":\n",
    "        vowel_count += 1\n",
    "print(\" NUMBER OF VOWELS:\", vowel_count)\n"
   ]
  },
  {
   "cell_type": "code",
   "execution_count": 1,
   "id": "75cd7367-ce62-491d-92a2-13473bab4d02",
   "metadata": {},
   "outputs": [
    {
     "name": "stdin",
     "output_type": "stream",
     "text": [
      "ENTER A STRING deepu\n"
     ]
    },
    {
     "name": "stdout",
     "output_type": "stream",
     "text": [
      "Reversed_string: upeed\n"
     ]
    }
   ],
   "source": [
    "input_string = input(\"ENTER A STRING\")\n",
    "reversed_string = input_string[::-1]\n",
    "print(\"Reversed_string:\", reversed_string)"
   ]
  },
  {
   "cell_type": "code",
   "execution_count": 3,
   "id": "fdac06e7-39f8-4f25-9c58-314ad27bce44",
   "metadata": {},
   "outputs": [
    {
     "name": "stdin",
     "output_type": "stream",
     "text": [
      "ENTER A STRING: PYTHON\n"
     ]
    },
    {
     "name": "stdout",
     "output_type": "stream",
     "text": [
      "THE STRING IS A NOT A PALINDROME.\n"
     ]
    }
   ],
   "source": [
    "input_string = input(\"ENTER A STRING:\")\n",
    "cleaned_string = input_string.replace(\" \",\"\").lower()\n",
    "reversed_string = cleaned_string[::-1]\n",
    "if cleaned_string == reversed_string:\n",
    "    print(\"THE INPUT STRING IS A PALINDROME.\")\n",
    "else:\n",
    "    print(\"THE STRING IS A NOT A PALINDROME.\")"
   ]
  },
  {
   "cell_type": "code",
   "execution_count": 4,
   "id": "290bf460-a304-4975-9566-3a8eb19478a9",
   "metadata": {},
   "outputs": [
    {
     "name": "stdin",
     "output_type": "stream",
     "text": [
      "ENTER A STRING: hello hello\n"
     ]
    },
    {
     "name": "stdout",
     "output_type": "stream",
     "text": [
      "MODIFIED STRING WITHOUT SPACES: hellohello\n"
     ]
    }
   ],
   "source": [
    "input_string = input(\"ENTER A STRING:\")\n",
    "modified_string = \"\"\n",
    "for char in input_string:\n",
    "    if char != \" \":\n",
    "        modified_string += char\n",
    "print(\"MODIFIED STRING WITHOUT SPACES:\", modified_string)"
   ]
  },
  {
   "cell_type": "code",
   "execution_count": null,
   "id": "803fe4e3-8703-45a6-acd5-d815467a45de",
   "metadata": {},
   "outputs": [],
   "source": []
  }
 ],
 "metadata": {
  "kernelspec": {
   "display_name": "Python 3 (ipykernel)",
   "language": "python",
   "name": "python3"
  },
  "language_info": {
   "codemirror_mode": {
    "name": "ipython",
    "version": 3
   },
   "file_extension": ".py",
   "mimetype": "text/x-python",
   "name": "python",
   "nbconvert_exporter": "python",
   "pygments_lexer": "ipython3",
   "version": "3.10.8"
  }
 },
 "nbformat": 4,
 "nbformat_minor": 5
}
